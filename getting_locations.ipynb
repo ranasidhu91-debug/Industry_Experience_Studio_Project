{
 "cells": [
  {
   "cell_type": "code",
   "execution_count": 1,
   "metadata": {},
   "outputs": [],
   "source": [
    "import requests\n",
    "from API.api_key import iqair_key,open_weather\n",
    "from geopy.geocoders import Nominatim\n",
    "from pprint import pprint"
   ]
  },
  {
   "cell_type": "code",
   "execution_count": 2,
   "metadata": {},
   "outputs": [
    {
     "name": "stdout",
     "output_type": "stream",
     "text": [
      "{'data': [{'state': 'Johor'},\n",
      "          {'state': 'Kedah'},\n",
      "          {'state': 'Kelantan'},\n",
      "          {'state': 'Kuala Lumpur'},\n",
      "          {'state': 'Labuan'},\n",
      "          {'state': 'Melaka'},\n",
      "          {'state': 'Negeri Sembilan'},\n",
      "          {'state': 'Pahang'},\n",
      "          {'state': 'Penang'},\n",
      "          {'state': 'Perak'},\n",
      "          {'state': 'Perlis'},\n",
      "          {'state': 'Putrajaya'},\n",
      "          {'state': 'Sabah'},\n",
      "          {'state': 'Sarawak'},\n",
      "          {'state': 'Selangor'},\n",
      "          {'state': 'Terengganu'}],\n",
      " 'status': 'success'}\n"
     ]
    }
   ],
   "source": [
    "states = f\"http://api.airvisual.com/v2/states?country=Malaysia&key=3f8d1e2f-379b-4746-a35f-de2b48ba8d2c\"\n",
    "\n",
    "response = requests.get(states)\n",
    "data = response.json()\n",
    "pprint(data)"
   ]
  },
  {
   "cell_type": "code",
   "execution_count": 3,
   "metadata": {},
   "outputs": [],
   "source": [
    "states = ['Johor','Kedah','Kelantan','Kuala Lumpur','Labuan','Melaka','Negeri Sembilan','Pahang','Penang','Perak','Perlis','Putrajaya','Sabah','Sarawak','Selangor','Terengganu']\n"
   ]
  },
  {
   "cell_type": "code",
   "execution_count": 4,
   "metadata": {},
   "outputs": [
    {
     "name": "stdout",
     "output_type": "stream",
     "text": [
      "{'data': [{'city': 'Banting'},\n",
      "          {'city': 'Klang'},\n",
      "          {'city': 'Kuala Selangor'},\n",
      "          {'city': 'Petaling Jaya'},\n",
      "          {'city': 'Shah Alam'},\n",
      "          {'city': 'Tanjong Dua Belas'}],\n",
      " 'status': 'success'}\n"
     ]
    }
   ],
   "source": [
    "city_data = f'http://api.airvisual.com/v2/cities?state=Selangor&country=Malaysia&key=3f8d1e2f-379b-4746-a35f-de2b48ba8d2c'\n",
    "\n",
    "response = requests.get(city_data)\n",
    "\n",
    "data = response.json()\n",
    "\n",
    "pprint(data)"
   ]
  },
  {
   "cell_type": "code",
   "execution_count": 5,
   "metadata": {},
   "outputs": [
    {
     "data": {
      "text/plain": [
       "'Banting'"
      ]
     },
     "execution_count": 5,
     "metadata": {},
     "output_type": "execute_result"
    }
   ],
   "source": [
    "city = data['data'][0]['city']  \n",
    "\n",
    "city"
   ]
  },
  {
   "cell_type": "code",
   "execution_count": null,
   "metadata": {},
   "outputs": [
    {
     "data": {
      "text/plain": [
       "['Banting',\n",
       " 'Klang',\n",
       " 'Kuala Selangor',\n",
       " 'Petaling Jaya',\n",
       " 'Shah Alam',\n",
       " 'Tanjong Dua Belas']"
      ]
     },
     "execution_count": 7,
     "metadata": {},
     "output_type": "execute_result"
    }
   ],
   "source": []
  },
  {
   "cell_type": "code",
   "execution_count": 11,
   "metadata": {},
   "outputs": [
    {
     "name": "stdout",
     "output_type": "stream",
     "text": [
      "{'data': {'message': 'Too Many Requests'}, 'status': 'fail'}\n"
     ]
    }
   ],
   "source": [
    "city = f'http://api.airvisual.com/v2/cities?state=Perak&country=Malaysia&key=3f8d1e2f-379b-4746-a35f-de2b48ba8d2c'\n",
    "\n",
    "response = requests.get(city)\n",
    "data = response.json()\n",
    "pprint(data)"
   ]
  },
  {
   "cell_type": "code",
   "execution_count": 9,
   "metadata": {},
   "outputs": [
    {
     "data": {
      "text/plain": [
       "{'Melaka': ['Alor Gajah', 'Melaka']}"
      ]
     },
     "execution_count": 9,
     "metadata": {},
     "output_type": "execute_result"
    }
   ],
   "source": [
    "sample = {}\n",
    "\n",
    "sample['Melaka'] = [entry['city'] for entry in data['data']]\n",
    "sample"
   ]
  },
  {
   "cell_type": "code",
   "execution_count": 12,
   "metadata": {},
   "outputs": [
    {
     "name": "stdout",
     "output_type": "stream",
     "text": [
      "Johor\n",
      "200\n",
      "done\n",
      "Kedah\n",
      "200\n",
      "done\n",
      "Kelantan\n",
      "200\n",
      "done\n",
      "Kuala Lumpur\n",
      "200\n",
      "done\n",
      "Labuan\n",
      "200\n",
      "done\n",
      "Melaka\n",
      "200\n",
      "done\n",
      "Negeri Sembilan\n",
      "200\n",
      "done\n",
      "Pahang\n",
      "200\n",
      "done\n",
      "Penang\n",
      "200\n",
      "done\n",
      "Perak\n",
      "200\n",
      "done\n",
      "Perlis\n",
      "200\n",
      "done\n",
      "Putrajaya\n",
      "200\n",
      "done\n",
      "Sabah\n",
      "200\n",
      "done\n",
      "Sarawak\n",
      "200\n",
      "done\n",
      "Selangor\n",
      "200\n",
      "done\n",
      "Terengganu\n",
      "200\n",
      "done\n"
     ]
    },
    {
     "data": {
      "text/plain": [
       "{'Johor': ['Bandar Penawar',\n",
       "  'Johor Bahru',\n",
       "  'Kluang',\n",
       "  'Parit Sulong',\n",
       "  'Pasir Gudang',\n",
       "  'Pengerang',\n",
       "  'Segamat District',\n",
       "  'Tangkak'],\n",
       " 'Kedah': ['Kulim', 'Langkawi', 'Sungai Petani'],\n",
       " 'Kelantan': ['Kota Bharu', 'Tanah Merah'],\n",
       " 'Kuala Lumpur': ['Kuala Lumpur'],\n",
       " 'Labuan': ['Labuan'],\n",
       " 'Melaka': ['Alor Gajah', 'Melaka'],\n",
       " 'Negeri Sembilan': ['Nilai', 'Port Dickson', 'Seremban'],\n",
       " 'Pahang': ['Balok', 'Jerantut', 'Kuala Rompin', 'Kuantan', 'Temerloh'],\n",
       " 'Penang': ['Balik Pulau',\n",
       "  'Batu Feringgi',\n",
       "  'Bukit Mertajam',\n",
       "  'Gelugor',\n",
       "  'George Town',\n",
       "  'Perai',\n",
       "  'Simpang Ampat',\n",
       "  'Tanjung Tokong'],\n",
       " 'Perak': ['Ipoh', 'Seri Manjung', 'Taiping', 'Tanjong Malim'],\n",
       " 'Perlis': ['Kangar'],\n",
       " 'Putrajaya': ['Putrajaya'],\n",
       " 'Sabah': ['Bongawan',\n",
       "  'Keningau',\n",
       "  'Kota Kinabalu',\n",
       "  'Putatan',\n",
       "  'Sandakan',\n",
       "  'Tawau'],\n",
       " 'Sarawak': ['Bintulu',\n",
       "  'Kapit',\n",
       "  'Kota Samarahan',\n",
       "  'Kuching',\n",
       "  'Limbang',\n",
       "  'Miri',\n",
       "  'Mukah',\n",
       "  'Sarikei',\n",
       "  'Sibu',\n",
       "  'Sri Aman'],\n",
       " 'Selangor': ['Banting',\n",
       "  'Klang',\n",
       "  'Kuala Selangor',\n",
       "  'Petaling Jaya',\n",
       "  'Shah Alam',\n",
       "  'Tanjong Dua Belas'],\n",
       " 'Terengganu': ['Chukai', 'Jerteh', 'Kerteh', 'Kuala Terengganu']}"
      ]
     },
     "execution_count": 12,
     "metadata": {},
     "output_type": "execute_result"
    }
   ],
   "source": [
    "import time\n",
    "all_cities = {}\n",
    "for state in states:\n",
    "    print(state)\n",
    "    city = f'http://api.airvisual.com/v2/cities?state={state}&country=Malaysia&key=3f8d1e2f-379b-4746-a35f-de2b48ba8d2c'\n",
    "    response = requests.get(city)\n",
    "    print(response.status_code)\n",
    "    data = response.json()\n",
    "    all_cities[state] = [entry['city'] for entry in data['data']]\n",
    "    print('done')\n",
    "    time.sleep(30)\n",
    "\n",
    "all_cities\n",
    "\n"
   ]
  },
  {
   "cell_type": "code",
   "execution_count": 13,
   "metadata": {},
   "outputs": [
    {
     "data": {
      "text/plain": [
       "['Banting',\n",
       " 'Klang',\n",
       " 'Kuala Selangor',\n",
       " 'Petaling Jaya',\n",
       " 'Shah Alam',\n",
       " 'Tanjong Dua Belas']"
      ]
     },
     "execution_count": 13,
     "metadata": {},
     "output_type": "execute_result"
    }
   ],
   "source": [
    "all_cities['Selangor']"
   ]
  },
  {
   "cell_type": "code",
   "execution_count": 14,
   "metadata": {},
   "outputs": [
    {
     "data": {
      "text/html": [
       "<div>\n",
       "<style scoped>\n",
       "    .dataframe tbody tr th:only-of-type {\n",
       "        vertical-align: middle;\n",
       "    }\n",
       "\n",
       "    .dataframe tbody tr th {\n",
       "        vertical-align: top;\n",
       "    }\n",
       "\n",
       "    .dataframe thead th {\n",
       "        text-align: right;\n",
       "    }\n",
       "</style>\n",
       "<table border=\"1\" class=\"dataframe\">\n",
       "  <thead>\n",
       "    <tr style=\"text-align: right;\">\n",
       "      <th></th>\n",
       "      <th>State</th>\n",
       "      <th>City</th>\n",
       "    </tr>\n",
       "  </thead>\n",
       "  <tbody>\n",
       "    <tr>\n",
       "      <th>0</th>\n",
       "      <td>Johor</td>\n",
       "      <td>Bandar Penawar</td>\n",
       "    </tr>\n",
       "    <tr>\n",
       "      <th>1</th>\n",
       "      <td>Johor</td>\n",
       "      <td>Johor Bahru</td>\n",
       "    </tr>\n",
       "    <tr>\n",
       "      <th>2</th>\n",
       "      <td>Johor</td>\n",
       "      <td>Kluang</td>\n",
       "    </tr>\n",
       "    <tr>\n",
       "      <th>3</th>\n",
       "      <td>Johor</td>\n",
       "      <td>Parit Sulong</td>\n",
       "    </tr>\n",
       "    <tr>\n",
       "      <th>4</th>\n",
       "      <td>Johor</td>\n",
       "      <td>Pasir Gudang</td>\n",
       "    </tr>\n",
       "  </tbody>\n",
       "</table>\n",
       "</div>"
      ],
      "text/plain": [
       "   State            City\n",
       "0  Johor  Bandar Penawar\n",
       "1  Johor     Johor Bahru\n",
       "2  Johor          Kluang\n",
       "3  Johor    Parit Sulong\n",
       "4  Johor    Pasir Gudang"
      ]
     },
     "execution_count": 14,
     "metadata": {},
     "output_type": "execute_result"
    }
   ],
   "source": [
    "import pandas as pd\n",
    "\n",
    "df = pd.DataFrame([(state, city) for state, cities in all_cities.items() for city in cities], columns=['State', 'City'])\n",
    "\n",
    "df.head()\n"
   ]
  },
  {
   "cell_type": "code",
   "execution_count": 20,
   "metadata": {},
   "outputs": [],
   "source": [
    "def get_lat_lon_openweather(city):\n",
    "    url = f\"http://api.openweathermap.org/geo/1.0/direct?q={city},MY&limit=1&appid=bdb7679f0e611d60b4d22710ba38f3f1\"\n",
    "    response = requests.get(url).json()\n",
    "    print([response[0]['lat'], response[0]['lon']])\n",
    "    \n",
    "    # Introduce a delay to respect the rate limit\n",
    "    time.sleep(20)\n",
    "    \n",
    "    if response:\n",
    "        return pd.Series([response[0]['lat'], response[0]['lon']])"
   ]
  },
  {
   "cell_type": "code",
   "execution_count": 26,
   "metadata": {},
   "outputs": [
    {
     "data": {
      "text/plain": [
       "['Banting',\n",
       " 'Klang',\n",
       " 'Kuala Selangor',\n",
       " 'Petaling Jaya',\n",
       " 'Shah Alam',\n",
       " 'Tanjong Dua Belas']"
      ]
     },
     "execution_count": 26,
     "metadata": {},
     "output_type": "execute_result"
    }
   ],
   "source": [
    "all_cities['Selangor']"
   ]
  },
  {
   "cell_type": "code",
   "execution_count": 25,
   "metadata": {},
   "outputs": [
    {
     "name": "stdout",
     "output_type": "stream",
     "text": [
      "         State               City\n",
      "0        Johor     Bandar Penawar\n",
      "1        Johor        Johor Bahru\n",
      "2        Johor             Kluang\n",
      "3        Johor       Parit Sulong\n",
      "4        Johor       Pasir Gudang\n",
      "..         ...                ...\n",
      "60    Selangor  Tanjong Dua Belas\n",
      "61  Terengganu             Chukai\n",
      "62  Terengganu             Jerteh\n",
      "63  Terengganu             Kerteh\n",
      "64  Terengganu   Kuala Terengganu\n",
      "\n",
      "[65 rows x 2 columns]\n"
     ]
    }
   ],
   "source": [
    "print(df)"
   ]
  },
  {
   "cell_type": "code",
   "execution_count": 31,
   "metadata": {},
   "outputs": [],
   "source": [
    "df.to_csv('locations.csv',index='False')"
   ]
  },
  {
   "cell_type": "code",
   "execution_count": 47,
   "metadata": {},
   "outputs": [
    {
     "name": "stdout",
     "output_type": "stream",
     "text": [
      "Latitude: 5.4708863, Longitude: 100.2485887\n"
     ]
    }
   ],
   "source": [
    "from geopy.geocoders import Nominatim\n",
    "\n",
    "# Initialize Nominatim\n",
    "geolocator = Nominatim(user_agent=\"my_geocoder\")\n",
    "\n",
    "# Search for the location\n",
    "location = geolocator.geocode(\"Batu Feringgi, Malaysia\")\n",
    "\n",
    "# Print latitude and longitude\n",
    "if location:\n",
    "    print(f\"Latitude: {location.latitude}, Longitude: {location.longitude}\")"
   ]
  },
  {
   "cell_type": "code",
   "execution_count": 42,
   "metadata": {},
   "outputs": [
    {
     "name": "stdout",
     "output_type": "stream",
     "text": [
      "Latitude: 3.6847575, Longitude: 101.5182638\n"
     ]
    }
   ],
   "source": [
    "from geopy.geocoders import Nominatim\n",
    "\n",
    "# Initialize Nominatim\n",
    "geolocator = Nominatim(user_agent=\"my_geocoder\")\n",
    "\n",
    "# Search for the location\n",
    "location = geolocator.geocode(\"Tanjung Malim, Malaysia\")\n",
    "\n",
    "# Print latitude and longitude\n",
    "if location:\n",
    "    print(f\"Latitude: {location.latitude}, Longitude: {location.longitude}\")"
   ]
  },
  {
   "cell_type": "code",
   "execution_count": 48,
   "metadata": {},
   "outputs": [
    {
     "name": "stdout",
     "output_type": "stream",
     "text": [
      "Bandar Penawar\n",
      "Johor Bahru\n",
      "Kluang\n",
      "Parit Sulong\n",
      "Pasir Gudang\n",
      "Pengerang\n",
      "Segamat District\n",
      "Tangkak\n",
      "Kulim\n",
      "Langkawi\n",
      "Sungai Petani\n",
      "Kota Bharu\n",
      "Tanah Merah\n",
      "Kuala Lumpur\n",
      "Labuan\n",
      "Alor Gajah\n",
      "Melaka\n",
      "Nilai\n",
      "Port Dickson\n",
      "Seremban\n",
      "Balok\n",
      "Jerantut\n",
      "Kuala Rompin\n",
      "Kuantan\n",
      "Temerloh\n",
      "Balik Pulau\n",
      "Batu Feringgi\n",
      "Bukit Mertajam\n",
      "Gelugor\n",
      "Georgetown\n",
      "Perai\n",
      "Simpang Ampat\n",
      "Tanjung Tokong\n",
      "Ipoh\n",
      "Seri Manjung\n",
      "Taiping\n",
      "Tanjung Malim\n",
      "Kangar\n",
      "Putrajaya\n",
      "Bongawan\n",
      "Keningau\n",
      "Kota Kinabalu\n",
      "Putatan\n",
      "Sandakan\n",
      "Tawau\n",
      "Bintulu\n",
      "Kapit\n",
      "Kota Samarahan\n",
      "Kuching\n",
      "Limbang\n",
      "Miri\n",
      "Mukah\n",
      "Sarikei\n",
      "Sibu\n",
      "Sri Aman\n",
      "Banting\n",
      "Klang\n",
      "Kuala Selangor\n",
      "Petaling Jaya\n",
      "Shah Alam\n",
      "Tanjung Dua Belas\n",
      "Chukai\n",
      "Jerteh\n",
      "Kerteh\n",
      "Kuala Terengganu\n",
      "Latitude and Longitude added. Saved as 'cities_with_lat_lon.csv'\n"
     ]
    }
   ],
   "source": [
    "import pandas as pd\n",
    "import time\n",
    "from geopy.geocoders import Nominatim\n",
    "from geopy.exc import GeocoderTimedOut\n",
    "\n",
    "# Load the CSV file\n",
    "df = pd.read_csv('locations.csv')  # Replace with your file name\n",
    "\n",
    "# Initialize geocoder\n",
    "geolocator = Nominatim(user_agent=\"geo_lookup\")\n",
    "\n",
    "# Function to get latitude and longitude with 30-second delay\n",
    "def get_lat_lon(city):\n",
    "    try:\n",
    "        print(city)\n",
    "        location = geolocator.geocode(city + \", Malaysia\")\n",
    "        if location:\n",
    "            lat, lon = location.latitude, location.longitude\n",
    "        else:\n",
    "            lat, lon = None, None\n",
    "    except GeocoderTimedOut:\n",
    "        lat, lon = None, None\n",
    "    \n",
    "    # Sleep for 30 seconds to prevent API rate limiting\n",
    "    time.sleep(30)\n",
    "    return lat, lon\n",
    "\n",
    "# Apply function to get lat-long\n",
    "df[['Latitude', 'Longitude']] = df['City'].apply(lambda x: pd.Series(get_lat_lon(x)))\n",
    "\n",
    "# Save the updated CSV\n",
    "df.to_csv('cities_with_lat_lon.csv', index=False)\n",
    "\n",
    "print(\"Latitude and Longitude added. Saved as 'cities_with_lat_lon.csv'\")\n"
   ]
  },
  {
   "cell_type": "code",
   "execution_count": 26,
   "metadata": {},
   "outputs": [],
   "source": [
    "import requests\n",
    "from API.api_key import iqair_key,open_weather\n",
    "\n",
    "\n",
    "lat = str(3.0396954041278708)\n",
    "lng = str(101.43511913671034)\n",
    "\n",
    "\n",
    "#openweather_url = f\"http://api.openweathermap.org/data/2.5/air_pollution?lat={lat}&lon={lng}&appid={open_weather}\"\n",
    "iqair_url = f'http://api.airvisual.com/v2/nearest_city?lat={lat}&lon={lng}&key={iqair_key}'\n",
    "\n",
    "response = requests.get(iqair_url)\n",
    "\n",
    "data = response.json()"
   ]
  },
  {
   "cell_type": "code",
   "execution_count": 27,
   "metadata": {},
   "outputs": [
    {
     "name": "stdout",
     "output_type": "stream",
     "text": [
      "{'data': {'city': 'Klang',\n",
      "          'country': 'Malaysia',\n",
      "          'current': {'pollution': {'aqicn': 25,\n",
      "                                    'aqius': 66,\n",
      "                                    'maincn': 'p2',\n",
      "                                    'mainus': 'p2',\n",
      "                                    'ts': '2025-03-18T02:00:00.000Z'},\n",
      "                      'weather': {'hu': 66,\n",
      "                                  'ic': '02d',\n",
      "                                  'pr': 1012,\n",
      "                                  'tp': 30,\n",
      "                                  'ts': '2025-03-18T02:00:00.000Z',\n",
      "                                  'wd': 0,\n",
      "                                  'ws': 1.03}},\n",
      "          'location': {'coordinates': [101.413111, 3.014889], 'type': 'Point'},\n",
      "          'state': 'Selangor'},\n",
      " 'status': 'success'}\n"
     ]
    }
   ],
   "source": [
    "import pprint\n",
    "\n",
    "pprint.pprint(data)"
   ]
  },
  {
   "cell_type": "code",
   "execution_count": 28,
   "metadata": {},
   "outputs": [
    {
     "name": "stdout",
     "output_type": "stream",
     "text": [
      "City:Klang\n",
      "State:Selangor\n",
      "AQI:66\n",
      "Main:p2\n",
      "Lat:3.014889\n",
      "Longitude:101.413111\n"
     ]
    }
   ],
   "source": [
    "data = data['data']\n",
    "city = data['city']\n",
    "state = data['state']\n",
    "aqi = data['current']['pollution']['aqius']\n",
    "main_pollutant = data['current']['pollution']['mainus']\n",
    "lat = data['location']['coordinates'][1]\n",
    "lng = data['location']['coordinates'][0]\n",
    "\n",
    "print(f'City:{city}\\nState:{state}\\nAQI:{aqi}\\nMain:{main_pollutant}\\nLat:{lat}\\nLongitude:{lng}')\n"
   ]
  },
  {
   "cell_type": "code",
   "execution_count": 29,
   "metadata": {},
   "outputs": [
    {
     "name": "stdout",
     "output_type": "stream",
     "text": [
      "{'data': {'city': 'Klang',\n",
      "          'country': 'Malaysia',\n",
      "          'current': {'pollution': {'aqicn': 25,\n",
      "                                    'aqius': 66,\n",
      "                                    'maincn': 'p2',\n",
      "                                    'mainus': 'p2',\n",
      "                                    'ts': '2025-03-18T02:00:00.000Z'},\n",
      "                      'weather': {'hu': 66,\n",
      "                                  'ic': '02d',\n",
      "                                  'pr': 1012,\n",
      "                                  'tp': 30,\n",
      "                                  'ts': '2025-03-18T02:00:00.000Z',\n",
      "                                  'wd': 0,\n",
      "                                  'ws': 1.03}},\n",
      "          'location': {'coordinates': [101.413111, 3.014889], 'type': 'Point'},\n",
      "          'state': 'Selangor'},\n",
      " 'status': 'success'}\n"
     ]
    }
   ],
   "source": [
    "iqair_state_url = f\"http://api.airvisual.com/v2/city?city=Klang&state=Selangor&country=Malaysia&key={iqair_key}\"\n",
    "\n",
    "response = requests.get(iqair_state_url)\n",
    "data = response.json()\n",
    "\n",
    "pprint.pprint(data)"
   ]
  },
  {
   "cell_type": "code",
   "execution_count": 32,
   "metadata": {},
   "outputs": [],
   "source": [
    "import pandas as pd\n",
    "def getting_locations():\n",
    "    locations = pd.read_csv(\"cities_with_lat_lon.csv\").drop(columns=['Unnamed: 0'])\n",
    "    state_cities_coord = locations.groupby('State').apply(lambda x: x.set_index('City').to_dict(orient='index'), include_groups=False).to_dict()\n",
    "    states = locations['State'].unique().tolist()\n",
    "    state_cities = locations.groupby('State')['City'].apply(list).to_dict()\n",
    "    return state_cities_coord,states,state_cities\n",
    "\n",
    "\n",
    "coord,states,state_cities = getting_locations()\n"
   ]
  },
  {
   "cell_type": "code",
   "execution_count": 34,
   "metadata": {},
   "outputs": [
    {
     "data": {
      "text/plain": [
       "{'Latitude': 1.4581986, 'Longitude': 103.7649059}"
      ]
     },
     "execution_count": 34,
     "metadata": {},
     "output_type": "execute_result"
    }
   ],
   "source": [
    "coord['Johor']['Johor Bahru']"
   ]
  }
 ],
 "metadata": {
  "kernelspec": {
   "display_name": "Industry_Based_Project",
   "language": "python",
   "name": "python3"
  },
  "language_info": {
   "codemirror_mode": {
    "name": "ipython",
    "version": 3
   },
   "file_extension": ".py",
   "mimetype": "text/x-python",
   "name": "python",
   "nbconvert_exporter": "python",
   "pygments_lexer": "ipython3",
   "version": "3.12.9"
  }
 },
 "nbformat": 4,
 "nbformat_minor": 2
}
